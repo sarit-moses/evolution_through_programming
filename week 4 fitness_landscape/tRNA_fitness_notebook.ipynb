{
 "cells": [
  {
   "cell_type": "code",
   "execution_count": 74,
   "outputs": [],
   "source": [
    "import numpy as np\n",
    "import pandas as pd"
   ],
   "metadata": {
    "collapsed": false
   }
  },
  {
   "cell_type": "code",
   "execution_count": 75,
   "outputs": [
    {
     "data": {
      "text/plain": "   Num Pos Nuc                                                Seq    T0Read  \\\n0    0  -1   V  GTTCCGTTGGCGTAATGGTAACGCGTCTCCCTCCTAAGGAGAAGAC...  24136130   \n1    1  62   T  GTTCCGTTGGCGTAATGGTAACGCGTCTCCCTCCTAAGGAGAAGAC...     12692   \n2    1  51   C  GTTCCGTTGGCGTAATGGTAACGCGTCTCCCTCCTAAGGAGAAGAC...    203485   \n3    1  18   G  GTTCCGTTGGCGTAATGGGAACGCGTCTCCCTCCTAAGGAGAAGAC...     91706   \n4    1   5   A  GTTCCATTGGCGTAATGGTAACGCGTCTCCCTCCTAAGGAGAAGAC...    416202   \n\n    Fit23   Fit30  FitDMSO   Fit37  \n0  1.0000  1.0000   1.0000  1.0000  \n1  1.0234  0.9989   0.9883  0.9767  \n2  0.8812  0.8372   0.8230  0.7154  \n3  1.0023  0.9869   0.9976  0.9979  \n4  0.9809  0.9737   0.9795  0.9854  ",
      "text/html": "<div>\n<style scoped>\n    .dataframe tbody tr th:only-of-type {\n        vertical-align: middle;\n    }\n\n    .dataframe tbody tr th {\n        vertical-align: top;\n    }\n\n    .dataframe thead th {\n        text-align: right;\n    }\n</style>\n<table border=\"1\" class=\"dataframe\">\n  <thead>\n    <tr style=\"text-align: right;\">\n      <th></th>\n      <th>Num</th>\n      <th>Pos</th>\n      <th>Nuc</th>\n      <th>Seq</th>\n      <th>T0Read</th>\n      <th>Fit23</th>\n      <th>Fit30</th>\n      <th>FitDMSO</th>\n      <th>Fit37</th>\n    </tr>\n  </thead>\n  <tbody>\n    <tr>\n      <th>0</th>\n      <td>0</td>\n      <td>-1</td>\n      <td>V</td>\n      <td>GTTCCGTTGGCGTAATGGTAACGCGTCTCCCTCCTAAGGAGAAGAC...</td>\n      <td>24136130</td>\n      <td>1.0000</td>\n      <td>1.0000</td>\n      <td>1.0000</td>\n      <td>1.0000</td>\n    </tr>\n    <tr>\n      <th>1</th>\n      <td>1</td>\n      <td>62</td>\n      <td>T</td>\n      <td>GTTCCGTTGGCGTAATGGTAACGCGTCTCCCTCCTAAGGAGAAGAC...</td>\n      <td>12692</td>\n      <td>1.0234</td>\n      <td>0.9989</td>\n      <td>0.9883</td>\n      <td>0.9767</td>\n    </tr>\n    <tr>\n      <th>2</th>\n      <td>1</td>\n      <td>51</td>\n      <td>C</td>\n      <td>GTTCCGTTGGCGTAATGGTAACGCGTCTCCCTCCTAAGGAGAAGAC...</td>\n      <td>203485</td>\n      <td>0.8812</td>\n      <td>0.8372</td>\n      <td>0.8230</td>\n      <td>0.7154</td>\n    </tr>\n    <tr>\n      <th>3</th>\n      <td>1</td>\n      <td>18</td>\n      <td>G</td>\n      <td>GTTCCGTTGGCGTAATGGGAACGCGTCTCCCTCCTAAGGAGAAGAC...</td>\n      <td>91706</td>\n      <td>1.0023</td>\n      <td>0.9869</td>\n      <td>0.9976</td>\n      <td>0.9979</td>\n    </tr>\n    <tr>\n      <th>4</th>\n      <td>1</td>\n      <td>5</td>\n      <td>A</td>\n      <td>GTTCCATTGGCGTAATGGTAACGCGTCTCCCTCCTAAGGAGAAGAC...</td>\n      <td>416202</td>\n      <td>0.9809</td>\n      <td>0.9737</td>\n      <td>0.9795</td>\n      <td>0.9854</td>\n    </tr>\n  </tbody>\n</table>\n</div>"
     },
     "execution_count": 75,
     "metadata": {},
     "output_type": "execute_result"
    }
   ],
   "source": [
    "trna_fitness_table = pd.read_csv('tRNA_fitness_table.txt', sep= '\\t')\n",
    "trna_fitness_table.head()"
   ],
   "metadata": {
    "collapsed": false
   }
  },
  {
   "cell_type": "code",
   "execution_count": 76,
   "outputs": [
    {
     "name": "stdout",
     "output_type": "stream",
     "text": [
      "The Number of higher fitness neighbors of order 2: 2108\n"
     ]
    }
   ],
   "source": [
    "better_fitness_2N = trna_fitness_table[(trna_fitness_table['Num'] == 2) & (trna_fitness_table['Fit23'] > 1)]\n",
    "print(f'The Number of higher fitness neighbors of order 2: {better_fitness_2N.shape[0]}')"
   ],
   "metadata": {
    "collapsed": false
   }
  },
  {
   "cell_type": "code",
   "execution_count": 85,
   "outputs": [],
   "source": [
    "mutations_1 = []\n",
    "mutations_2 = []\n",
    "mutation_fitness_1 = []\n",
    "mutation_fitness_2 = []\n",
    "for _, row in better_fitness_2N.iterrows():\n",
    "    mutation_position_array = row['Pos'].split(' ')\n",
    "    mutation_nucleotides_array = row['Nuc'].split(' ')\n",
    "    pos_1 = mutation_position_array[0]\n",
    "    nuc_1= mutation_nucleotides_array[0]\n",
    "    pos_2 = mutation_position_array[1]\n",
    "    nuc_2= mutation_nucleotides_array[1]\n",
    "\n",
    "    mut_1 = f\"Pos {pos_1}: {trna_fitness_table.loc[0, 'Seq'][int(pos_1)]} -> {nuc_1}\"\n",
    "    mut_2 =  f\"Pos {pos_2}: {trna_fitness_table.loc[0, 'Seq'][int(pos_2)]} -> {nuc_2}\"\n",
    "    mutations_1.append(mut_1)\n",
    "    mutations_2.append(mut_2)\n",
    "\n",
    "    mutation_1_fitness = trna_fitness_table[(trna_fitness_table['Pos'] == pos_1 ) & (trna_fitness_table['Nuc'] == nuc_1)]['Fit23'].values[0]\n",
    "    mutation_2_fitness = trna_fitness_table[(trna_fitness_table['Pos'] == pos_2) & (trna_fitness_table['Nuc'] == nuc_2)]['Fit23'].values[0]\n",
    "    mutation_fitness_1.append(mutation_1_fitness)\n",
    "    mutation_fitness_2.append(mutation_2_fitness)"
   ],
   "metadata": {
    "collapsed": false
   }
  },
  {
   "cell_type": "code",
   "execution_count": 86,
   "outputs": [
    {
     "name": "stderr",
     "output_type": "stream",
     "text": [
      "C:\\Users\\itani\\AppData\\Local\\Temp\\ipykernel_36616\\3366582555.py:1: SettingWithCopyWarning: \n",
      "A value is trying to be set on a copy of a slice from a DataFrame.\n",
      "Try using .loc[row_indexer,col_indexer] = value instead\n",
      "\n",
      "See the caveats in the documentation: https://pandas.pydata.org/pandas-docs/stable/user_guide/indexing.html#returning-a-view-versus-a-copy\n",
      "  better_fitness_2N['mutation_1'] = mutations_1\n",
      "C:\\Users\\itani\\AppData\\Local\\Temp\\ipykernel_36616\\3366582555.py:2: SettingWithCopyWarning: \n",
      "A value is trying to be set on a copy of a slice from a DataFrame.\n",
      "Try using .loc[row_indexer,col_indexer] = value instead\n",
      "\n",
      "See the caveats in the documentation: https://pandas.pydata.org/pandas-docs/stable/user_guide/indexing.html#returning-a-view-versus-a-copy\n",
      "  better_fitness_2N['mutation_2'] = mutations_2\n",
      "C:\\Users\\itani\\AppData\\Local\\Temp\\ipykernel_36616\\3366582555.py:3: SettingWithCopyWarning: \n",
      "A value is trying to be set on a copy of a slice from a DataFrame.\n",
      "Try using .loc[row_indexer,col_indexer] = value instead\n",
      "\n",
      "See the caveats in the documentation: https://pandas.pydata.org/pandas-docs/stable/user_guide/indexing.html#returning-a-view-versus-a-copy\n",
      "  better_fitness_2N['mutation_1_fitness'] = mutation_1_fitness\n",
      "C:\\Users\\itani\\AppData\\Local\\Temp\\ipykernel_36616\\3366582555.py:4: SettingWithCopyWarning: \n",
      "A value is trying to be set on a copy of a slice from a DataFrame.\n",
      "Try using .loc[row_indexer,col_indexer] = value instead\n",
      "\n",
      "See the caveats in the documentation: https://pandas.pydata.org/pandas-docs/stable/user_guide/indexing.html#returning-a-view-versus-a-copy\n",
      "  better_fitness_2N['mutation_2_fitness'] = mutation_2_fitness\n"
     ]
    }
   ],
   "source": [
    "better_fitness_2N['mutation_1'] = mutations_1\n",
    "better_fitness_2N['mutation_2'] = mutations_2\n",
    "better_fitness_2N['mutation_1_fitness'] = mutation_1_fitness\n",
    "better_fitness_2N['mutation_2_fitness'] = mutation_2_fitness\n"
   ],
   "metadata": {
    "collapsed": false
   }
  },
  {
   "cell_type": "code",
   "execution_count": 87,
   "outputs": [
    {
     "name": "stderr",
     "output_type": "stream",
     "text": [
      "C:\\Users\\itani\\AppData\\Local\\Temp\\ipykernel_36616\\1663486876.py:1: SettingWithCopyWarning: \n",
      "A value is trying to be set on a copy of a slice from a DataFrame.\n",
      "Try using .loc[row_indexer,col_indexer] = value instead\n",
      "\n",
      "See the caveats in the documentation: https://pandas.pydata.org/pandas-docs/stable/user_guide/indexing.html#returning-a-view-versus-a-copy\n",
      "  better_fitness_2N['Reachable'] = better_fitness_2N.apply(lambda x: (x['mutation_1_fitness'] >= 1) or x['mutation_2_fitness'] >=1, axis = 1)\n"
     ]
    },
    {
     "data": {
      "text/plain": "     Num    Pos  Nuc                                                Seq  \\\n215    2  24 50  C A  GTTCCGTTGGCGTAATGGTAACGCCTCTCCCTCCTAAGGAGAAGAC...   \n219    2  42 47  T A  GTTCCGTTGGCGTAATGGTAACGCGTCTCCCTCCTAAGGAGATGAC...   \n220    2  13 62  C A  GTTCCGTTGGCGTCATGGTAACGCGTCTCCCTCCTAAGGAGAAGAC...   \n221    2  29 68  T T  GTTCCGTTGGCGTAATGGTAACGCGTCTCTCTCCTAAGGAGAAGAC...   \n223    2  19 23  C T  GTTCCGTTGGCGTAATGGTCACGTGTCTCCCTCCTAAGGAGAAGAC...   \n224    2  10 58  T G  GTTCCGTTGGTGTAATGGTAACGCGTCTCCCTCCTAAGGAGAAGAC...   \n235    2   4 48  T T  GTTCTGTTGGCGTAATGGTAACGCGTCTCCCTCCTAAGGAGAAGAC...   \n238    2  19 36  G C  GTTCCGTTGGCGTAATGGTGACGCGTCTCCCTCCTACGGAGAAGAC...   \n239    2  30 62  T A  GTTCCGTTGGCGTAATGGTAACGCGTCTCCTTCCTAAGGAGAAGAC...   \n243    2  34 69  C C  GTTCCGTTGGCGTAATGGTAACGCGTCTCCCTCCCAAGGAGAAGAC...   \n\n     T0Read   Fit23   Fit30  FitDMSO   Fit37      mutation_1      mutation_2  \\\n215   19766  1.0327  0.9828   1.0041  1.0295  Pos 24: G -> C  Pos 50: G -> A   \n219   12643  1.0320  1.0269   1.0495  1.0406  Pos 42: A -> T  Pos 47: G -> A   \n220     132  1.0512  1.0032   1.0205  1.0304  Pos 13: A -> C  Pos 62: G -> A   \n221     216  1.0438  1.0345   1.0567  1.0586  Pos 29: C -> T  Pos 68: A -> T   \n223    2733  1.0028  1.0144   0.9723  0.9853  Pos 19: A -> C  Pos 23: C -> T   \n224     199  1.0474  1.0275   1.0609  1.0299  Pos 10: C -> T  Pos 58: T -> G   \n235    2357  1.0422  1.0439   1.0520  1.0473   Pos 4: C -> T  Pos 48: C -> T   \n238    2936  1.0152  0.9192   1.0085  0.9951  Pos 19: A -> G  Pos 36: A -> C   \n239     502  1.2054  1.2067   1.2043  1.2027  Pos 30: C -> T  Pos 62: G -> A   \n243     128  1.0288  1.0185   0.9942  1.0081  Pos 34: T -> C  Pos 69: A -> C   \n\n     mutation_1_fitness  mutation_2_fitness  Reachable  \n215                1.02              0.9857       True  \n219                1.02              0.9857       True  \n220                1.02              0.9857       True  \n221                1.02              0.9857       True  \n223                1.02              0.9857       True  \n224                1.02              0.9857       True  \n235                1.02              0.9857       True  \n238                1.02              0.9857       True  \n239                1.02              0.9857       True  \n243                1.02              0.9857       True  ",
      "text/html": "<div>\n<style scoped>\n    .dataframe tbody tr th:only-of-type {\n        vertical-align: middle;\n    }\n\n    .dataframe tbody tr th {\n        vertical-align: top;\n    }\n\n    .dataframe thead th {\n        text-align: right;\n    }\n</style>\n<table border=\"1\" class=\"dataframe\">\n  <thead>\n    <tr style=\"text-align: right;\">\n      <th></th>\n      <th>Num</th>\n      <th>Pos</th>\n      <th>Nuc</th>\n      <th>Seq</th>\n      <th>T0Read</th>\n      <th>Fit23</th>\n      <th>Fit30</th>\n      <th>FitDMSO</th>\n      <th>Fit37</th>\n      <th>mutation_1</th>\n      <th>mutation_2</th>\n      <th>mutation_1_fitness</th>\n      <th>mutation_2_fitness</th>\n      <th>Reachable</th>\n    </tr>\n  </thead>\n  <tbody>\n    <tr>\n      <th>215</th>\n      <td>2</td>\n      <td>24 50</td>\n      <td>C A</td>\n      <td>GTTCCGTTGGCGTAATGGTAACGCCTCTCCCTCCTAAGGAGAAGAC...</td>\n      <td>19766</td>\n      <td>1.0327</td>\n      <td>0.9828</td>\n      <td>1.0041</td>\n      <td>1.0295</td>\n      <td>Pos 24: G -&gt; C</td>\n      <td>Pos 50: G -&gt; A</td>\n      <td>1.02</td>\n      <td>0.9857</td>\n      <td>True</td>\n    </tr>\n    <tr>\n      <th>219</th>\n      <td>2</td>\n      <td>42 47</td>\n      <td>T A</td>\n      <td>GTTCCGTTGGCGTAATGGTAACGCGTCTCCCTCCTAAGGAGATGAC...</td>\n      <td>12643</td>\n      <td>1.0320</td>\n      <td>1.0269</td>\n      <td>1.0495</td>\n      <td>1.0406</td>\n      <td>Pos 42: A -&gt; T</td>\n      <td>Pos 47: G -&gt; A</td>\n      <td>1.02</td>\n      <td>0.9857</td>\n      <td>True</td>\n    </tr>\n    <tr>\n      <th>220</th>\n      <td>2</td>\n      <td>13 62</td>\n      <td>C A</td>\n      <td>GTTCCGTTGGCGTCATGGTAACGCGTCTCCCTCCTAAGGAGAAGAC...</td>\n      <td>132</td>\n      <td>1.0512</td>\n      <td>1.0032</td>\n      <td>1.0205</td>\n      <td>1.0304</td>\n      <td>Pos 13: A -&gt; C</td>\n      <td>Pos 62: G -&gt; A</td>\n      <td>1.02</td>\n      <td>0.9857</td>\n      <td>True</td>\n    </tr>\n    <tr>\n      <th>221</th>\n      <td>2</td>\n      <td>29 68</td>\n      <td>T T</td>\n      <td>GTTCCGTTGGCGTAATGGTAACGCGTCTCTCTCCTAAGGAGAAGAC...</td>\n      <td>216</td>\n      <td>1.0438</td>\n      <td>1.0345</td>\n      <td>1.0567</td>\n      <td>1.0586</td>\n      <td>Pos 29: C -&gt; T</td>\n      <td>Pos 68: A -&gt; T</td>\n      <td>1.02</td>\n      <td>0.9857</td>\n      <td>True</td>\n    </tr>\n    <tr>\n      <th>223</th>\n      <td>2</td>\n      <td>19 23</td>\n      <td>C T</td>\n      <td>GTTCCGTTGGCGTAATGGTCACGTGTCTCCCTCCTAAGGAGAAGAC...</td>\n      <td>2733</td>\n      <td>1.0028</td>\n      <td>1.0144</td>\n      <td>0.9723</td>\n      <td>0.9853</td>\n      <td>Pos 19: A -&gt; C</td>\n      <td>Pos 23: C -&gt; T</td>\n      <td>1.02</td>\n      <td>0.9857</td>\n      <td>True</td>\n    </tr>\n    <tr>\n      <th>224</th>\n      <td>2</td>\n      <td>10 58</td>\n      <td>T G</td>\n      <td>GTTCCGTTGGTGTAATGGTAACGCGTCTCCCTCCTAAGGAGAAGAC...</td>\n      <td>199</td>\n      <td>1.0474</td>\n      <td>1.0275</td>\n      <td>1.0609</td>\n      <td>1.0299</td>\n      <td>Pos 10: C -&gt; T</td>\n      <td>Pos 58: T -&gt; G</td>\n      <td>1.02</td>\n      <td>0.9857</td>\n      <td>True</td>\n    </tr>\n    <tr>\n      <th>235</th>\n      <td>2</td>\n      <td>4 48</td>\n      <td>T T</td>\n      <td>GTTCTGTTGGCGTAATGGTAACGCGTCTCCCTCCTAAGGAGAAGAC...</td>\n      <td>2357</td>\n      <td>1.0422</td>\n      <td>1.0439</td>\n      <td>1.0520</td>\n      <td>1.0473</td>\n      <td>Pos 4: C -&gt; T</td>\n      <td>Pos 48: C -&gt; T</td>\n      <td>1.02</td>\n      <td>0.9857</td>\n      <td>True</td>\n    </tr>\n    <tr>\n      <th>238</th>\n      <td>2</td>\n      <td>19 36</td>\n      <td>G C</td>\n      <td>GTTCCGTTGGCGTAATGGTGACGCGTCTCCCTCCTACGGAGAAGAC...</td>\n      <td>2936</td>\n      <td>1.0152</td>\n      <td>0.9192</td>\n      <td>1.0085</td>\n      <td>0.9951</td>\n      <td>Pos 19: A -&gt; G</td>\n      <td>Pos 36: A -&gt; C</td>\n      <td>1.02</td>\n      <td>0.9857</td>\n      <td>True</td>\n    </tr>\n    <tr>\n      <th>239</th>\n      <td>2</td>\n      <td>30 62</td>\n      <td>T A</td>\n      <td>GTTCCGTTGGCGTAATGGTAACGCGTCTCCTTCCTAAGGAGAAGAC...</td>\n      <td>502</td>\n      <td>1.2054</td>\n      <td>1.2067</td>\n      <td>1.2043</td>\n      <td>1.2027</td>\n      <td>Pos 30: C -&gt; T</td>\n      <td>Pos 62: G -&gt; A</td>\n      <td>1.02</td>\n      <td>0.9857</td>\n      <td>True</td>\n    </tr>\n    <tr>\n      <th>243</th>\n      <td>2</td>\n      <td>34 69</td>\n      <td>C C</td>\n      <td>GTTCCGTTGGCGTAATGGTAACGCGTCTCCCTCCCAAGGAGAAGAC...</td>\n      <td>128</td>\n      <td>1.0288</td>\n      <td>1.0185</td>\n      <td>0.9942</td>\n      <td>1.0081</td>\n      <td>Pos 34: T -&gt; C</td>\n      <td>Pos 69: A -&gt; C</td>\n      <td>1.02</td>\n      <td>0.9857</td>\n      <td>True</td>\n    </tr>\n  </tbody>\n</table>\n</div>"
     },
     "execution_count": 87,
     "metadata": {},
     "output_type": "execute_result"
    }
   ],
   "source": [
    "better_fitness_2N['Reachable'] = better_fitness_2N.apply(lambda x: (x['mutation_1_fitness'] >= 1) or x['mutation_2_fitness'] >=1, axis = 1)\n",
    "better_fitness_2N.head(10)"
   ],
   "metadata": {
    "collapsed": false
   }
  },
  {
   "cell_type": "code",
   "execution_count": 71,
   "outputs": [
    {
     "name": "stdout",
     "output_type": "stream",
     "text": [
      "The Number of higher fitness neighbors of order 2 that are reachable: 1777\n"
     ]
    }
   ],
   "source": [
    "number_of_reachable = sum(better_fitness_2N['Reachable'])\n",
    "print(f'The Number of higher fitness neighbors of order 2 that are reachable: {number_of_reachable}')"
   ],
   "metadata": {
    "collapsed": false
   }
  },
  {
   "cell_type": "code",
   "execution_count": 73,
   "outputs": [
    {
     "name": "stdout",
     "output_type": "stream",
     "text": [
      "The Number of higher fitness neighbors of order 2 that are non-reachable: 331\n"
     ]
    }
   ],
   "source": [
    "number_of_non_reachable = better_fitness_2N.shape[0] - number_of_reachable\n",
    "number_of_reachable = sum(better_fitness_2N['Reachable'])\n",
    "print(f'The Number of higher fitness neighbors of order 2 that are non-reachable: {number_of_non_reachable}')"
   ],
   "metadata": {
    "collapsed": false
   }
  },
  {
   "cell_type": "code",
   "execution_count": 92,
   "outputs": [],
   "source": [
    "better_fitness_2N.to_csv('./N2_high_fitness.txt', sep= '\\t')"
   ],
   "metadata": {
    "collapsed": false
   }
  },
  {
   "cell_type": "code",
   "execution_count": null,
   "outputs": [],
   "source": [],
   "metadata": {
    "collapsed": false
   }
  }
 ],
 "metadata": {
  "kernelspec": {
   "display_name": "Python 3",
   "language": "python",
   "name": "python3"
  },
  "language_info": {
   "codemirror_mode": {
    "name": "ipython",
    "version": 2
   },
   "file_extension": ".py",
   "mimetype": "text/x-python",
   "name": "python",
   "nbconvert_exporter": "python",
   "pygments_lexer": "ipython2",
   "version": "2.7.6"
  }
 },
 "nbformat": 4,
 "nbformat_minor": 0
}
